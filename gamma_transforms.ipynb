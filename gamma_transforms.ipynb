{
 "cells": [
  {
   "cell_type": "code",
   "execution_count": 1,
   "metadata": {},
   "outputs": [],
   "source": [
    "from profiler import Profile, get_json\n",
    "\n",
    "import matplotlib.pyplot as plt"
   ]
  },
  {
   "cell_type": "code",
   "execution_count": 9,
   "metadata": {},
   "outputs": [
    {
     "name": "stdout",
     "output_type": "stream",
     "text": [
      "ACESCC\nUTILITY_CURVE_SRGB\nOUTPUT_REC709\nREDLOGFILM_DRAGONCOLOR2\nACESCCT\n"
     ]
    }
   ],
   "source": [
    "data = get_json('data/ocio_aces.json')\n",
    "profiles = []\n",
    "for key, value in data.items():\n",
    "    colour_dict = {key: value}\n",
    "    colour_profile = Profile(colour_dict)\n",
    "    profiles.append(colour_profile)\n",
    "\n",
    "plt.figure(figsize=(10, 10))\n",
    "plt.grid()\n",
    "legend = []\n",
    "plot = []\n",
    "for i in range(0, 5):\n",
    "    prof = profiles[i]\n",
    "    print(prof.getName())\n",
    "    plt.plot(prof.getCurveForChannel('r'), label=prof.getName())\n",
    "\n",
    "plt.legend()\n",
    "# \n",
    "# leg = plt.legend(loc='best', ncol=2, mode=\"expand\", shadow=True, fancybox=True)\n",
    "# leg.get_frame().set_alpha(0.5)\n",
    "\n",
    "plt.show()"
   ]
  },
  {
   "cell_type": "code",
   "execution_count": null,
   "metadata": {},
   "outputs": [],
   "source": []
  }
 ],
 "metadata": {
  "kernelspec": {
   "display_name": "Python 2",
   "language": "python",
   "name": "python2"
  },
  "language_info": {
   "codemirror_mode": {
    "name": "ipython",
    "version": 2
   },
   "file_extension": ".py",
   "mimetype": "text/x-python",
   "name": "python",
   "nbconvert_exporter": "python",
   "pygments_lexer": "ipython2",
   "version": "2.7.6"
  }
 },
 "nbformat": 4,
 "nbformat_minor": 0
}
