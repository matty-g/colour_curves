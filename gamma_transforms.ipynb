{
 "cells": [
  {
   "cell_type": "code",
   "execution_count": null,
   "metadata": {
    "collapsed": true
   },
   "outputs": [],
   "source": [
    "from profile import Profile, get_json\n",
    "\n",
    "import matplotlib.pyplot as plt\n",
    "%matplotlib inline\n",
    "\n",
    "data = range(0, 20)\n",
    "plt.figure()\n",
    "plt.plot(data)\n",
    "\n",
    "\n",
    "\n"
   ]
  },
  {
   "cell_type": "code",
   "execution_count": null,
   "metadata": {},
   "outputs": [],
   "source": [
    "data = get_json('/data/ocio_aces.json')\n",
    "profiles = []\n",
    "for key, value in data.iteritems():\n",
    "    colour_dict = {key: value}\n",
    "    colour_profile = Profile(colour_dict)\n",
    "    profiles.append(colour_profile)\n",
    "\n",
    "plt.figure()\n",
    "\n",
    "for i in range(0, 5):\n",
    "    prof = profiles[i]\n",
    "    plt.plot(prof.getCurveForChannel('r'))\n",
    "\n",
    "plt.show()\n"
   ]
  }
 ],
 "metadata": {
  "kernelspec": {
   "display_name": "Python 2",
   "language": "python",
   "name": "python2"
  },
  "language_info": {
   "codemirror_mode": {
    "name": "ipython",
    "version": 2.0
   },
   "file_extension": ".py",
   "mimetype": "text/x-python",
   "name": "python",
   "nbconvert_exporter": "python",
   "pygments_lexer": "ipython2",
   "version": "2.7.6"
  }
 },
 "nbformat": 4,
 "nbformat_minor": 0
}